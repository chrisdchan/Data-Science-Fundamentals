{
 "cells": [
  {
   "attachments": {},
   "cell_type": "markdown",
   "metadata": {},
   "source": [
    "# Worksheet 04\n",
    "\n",
    "Name:  Chris Chan\n",
    "\n",
    "UID: U31827126\n",
    "\n",
    "Partner: Haya Al-Majali\n",
    "\n",
    "### Topics\n",
    "\n",
    "- Distance & Similarity"
   ]
  },
  {
   "cell_type": "markdown",
   "metadata": {},
   "source": [
    "### Distance & Similarity\n",
    "\n",
    "#### Part 1\n",
    "\n",
    "a) In the minkowski distance, describe what the parameters p and d are."
   ]
  },
  {
   "cell_type": "markdown",
   "metadata": {},
   "source": [
    "d is the dimensionality of the space\n",
    "\n",
    "p is a parameter that specifies the type of distance metric"
   ]
  },
  {
   "cell_type": "markdown",
   "metadata": {},
   "source": [
    "b) In your own words describe the difference between the Euclidean distance and the Manhattan distance."
   ]
  },
  {
   "cell_type": "markdown",
   "metadata": {},
   "source": [
    "Euclidean distance measures the shortest path between two points in any direction.\n",
    "\n",
    "The Manhattan distance measures the distance between points by only travelling in the direction of the basis vectors."
   ]
  },
  {
   "attachments": {},
   "cell_type": "markdown",
   "metadata": {},
   "source": [
    "Consider A = (0, 0) and B = (1, 1). When:\n",
    "\n",
    "- p = 1, d(A, B) = 2\n",
    "- p = 2, d(A, B) = $\\sqrt{2} = 1.41$\n",
    "- p = 3, d(A, B) = $2^{1/3} = 1.26$\n",
    "- p = 4, d(A, B) = $2^{1/4} = 1.19$\n",
    "\n",
    "c) Describe what you think distance would look like when p is very large."
   ]
  },
  {
   "cell_type": "markdown",
   "metadata": {},
   "source": [
    "When p gets very large, the distance between A and B will approach 1."
   ]
  },
  {
   "cell_type": "markdown",
   "metadata": {},
   "source": [
    "d) Is the minkowski distance still a distance function when p < 1? Expain why / why not."
   ]
  },
  {
   "cell_type": "markdown",
   "metadata": {},
   "source": [
    "When p < 1, the minkowski distance is not a distance function.\n",
    "\n",
    "This is because the triangle inequality does not hold if you take points A(0, 0), B(1, 0), and C(0, 1)\n",
    "\n",
    "D(B, A) = D(A, C) = 1\n",
    "\n",
    "D(B, C) = 2 ^ (1/p)\n",
    "\n",
    "So D(B, C) > D(B, A) + D(A, C)"
   ]
  },
  {
   "cell_type": "markdown",
   "metadata": {},
   "source": [
    "e) when would you use cosine similarity over the euclidan distance?"
   ]
  },
  {
   "cell_type": "markdown",
   "metadata": {},
   "source": [
    "Cosine similarity is more useful over Euclidean distance when direction matters over distance. This is also useful when distances cannot be normalized. An example when this is useful is in understanding language, where concepts can be represented in some high dimensional direction. "
   ]
  },
  {
   "cell_type": "markdown",
   "metadata": {},
   "source": [
    "f) what does the jaccard distance account for that the manhattan distance doesn't?"
   ]
  },
  {
   "cell_type": "markdown",
   "metadata": {},
   "source": [
    "The jaccard index accounts for the size of the intersection between two samples weighted inversely as the size of the sample. The manhattan distance weights each part of the sample with the same weight."
   ]
  },
  {
   "attachments": {},
   "cell_type": "markdown",
   "metadata": {},
   "source": [
    "#### Part 2\n",
    "\n",
    "Consider the following two sentences:"
   ]
  },
  {
   "cell_type": "code",
   "execution_count": 8,
   "metadata": {},
   "outputs": [],
   "source": [
    "s1 = \"hello my name is Alice\"  \n",
    "s2 = \"hello my name is Bob\""
   ]
  },
  {
   "cell_type": "markdown",
   "metadata": {},
   "source": [
    "using the union of words from both sentences, we can represent each sentence as a vector. Each element of the vector represents the presence or absence of the word at that index.\n",
    "\n",
    "In this example, the union of words is (\"hello\", \"my\", \"name\", \"is\", \"Alice\", \"Bob\") so we can represent the above sentences as such:"
   ]
  },
  {
   "cell_type": "code",
   "execution_count": 9,
   "metadata": {},
   "outputs": [],
   "source": [
    "v1 = [1,    1, 1,   1, 1,    0]\n",
    "#     hello my name is Alice\n",
    "v2 = [1,    1, 1,   1, 0, 1]\n",
    "#     hello my name is    Bob"
   ]
  },
  {
   "attachments": {},
   "cell_type": "markdown",
   "metadata": {},
   "source": [
    "Programmatically, we can do the following:"
   ]
  },
  {
   "cell_type": "code",
   "execution_count": 10,
   "metadata": {},
   "outputs": [
    {
     "name": "stdout",
     "output_type": "stream",
     "text": [
      "['hello', 'is', 'Alice', 'my', 'name', 'Bob']\n",
      "[1, 1, 1, 1, 1, 0]\n"
     ]
    }
   ],
   "source": [
    "corpus = [s1, s2]\n",
    "all_words = list(set([item for x in corpus for item in x.split()]))\n",
    "print(all_words)\n",
    "v1 = [1 if x in s1 else 0 for x in all_words]\n",
    "print(v1)"
   ]
  },
  {
   "cell_type": "markdown",
   "metadata": {},
   "source": [
    "Let's add a new sentence to our corpus:"
   ]
  },
  {
   "cell_type": "code",
   "execution_count": 11,
   "metadata": {},
   "outputs": [],
   "source": [
    "s3 = \"hi my name is Claude\"\n",
    "corpus.append(s3)"
   ]
  },
  {
   "cell_type": "markdown",
   "metadata": {},
   "source": [
    "a) What is the new union of words used to represent s1, s2, and s3?"
   ]
  },
  {
   "cell_type": "code",
   "execution_count": 12,
   "metadata": {},
   "outputs": [
    {
     "name": "stdout",
     "output_type": "stream",
     "text": [
      "['hello', 'Claude', 'is', 'Alice', 'hi', 'my', 'name', 'Bob']\n"
     ]
    }
   ],
   "source": [
    "all_words = list(set([item for x in corpus for item in x.split()]))\n",
    "print(all_words)"
   ]
  },
  {
   "attachments": {},
   "cell_type": "markdown",
   "metadata": {},
   "source": [
    "b) Represent s1, s2, and s3 as vectors as above, using this new set of words."
   ]
  },
  {
   "cell_type": "code",
   "execution_count": 13,
   "metadata": {},
   "outputs": [
    {
     "name": "stdout",
     "output_type": "stream",
     "text": [
      "v1: [1, 0, 1, 1, 0, 1, 1, 0]\n",
      "v2: [1, 0, 1, 0, 0, 1, 1, 1]\n",
      "v3: [0, 1, 1, 0, 1, 1, 1, 0]\n"
     ]
    }
   ],
   "source": [
    "v1 = [1 if x in s1 else 0 for x in all_words]\n",
    "v2 = [1 if x in s2 else 0 for x in all_words]\n",
    "v3 = [1 if x in s3 else 0 for x in all_words]\n",
    "\n",
    "print(f\"v1: {v1}\")\n",
    "print(f\"v2: {v2}\")\n",
    "print(f\"v3: {v3}\")"
   ]
  },
  {
   "cell_type": "markdown",
   "metadata": {},
   "source": [
    "c) Write a function that computes the manhattan distance between two vectors. Which pair of vectors are the most similar under that distance function?"
   ]
  },
  {
   "cell_type": "code",
   "execution_count": 14,
   "metadata": {},
   "outputs": [
    {
     "name": "stdout",
     "output_type": "stream",
     "text": [
      "v1 - v2: 2\n",
      "v1 - v3: 4\n",
      "v2 - v3: 4\n"
     ]
    }
   ],
   "source": [
    "import numpy as np\n",
    "\n",
    "def manhattan_distance(v1, v2):\n",
    "\n",
    "    if len(v1) != len(v2):\n",
    "        raise RuntimeError(\"x and y should be the same dimension\")\n",
    "\n",
    "    v1 = np.array(v1)\n",
    "    v2 = np.array(v2)\n",
    "    return np.sum(np.abs(v1 - v2))\n",
    "\n",
    "print(f\"v1 - v2: {manhattan_distance(v1, v2)}\")\n",
    "print(f\"v1 - v3: {manhattan_distance(v1, v3)}\")\n",
    "print(f\"v2 - v3: {manhattan_distance(v2, v3)}\")\n"
   ]
  },
  {
   "cell_type": "markdown",
   "metadata": {},
   "source": [
    "d) Create a matrix of all these vectors (row major) and add the following sentences in vector form:\n",
    "\n",
    "- \"hi Alice\"\n",
    "- \"hello Claude\"\n",
    "- \"Bob my name is Claude\"\n",
    "- \"hi Claude my name is Alice\"\n",
    "- \"hello Bob\""
   ]
  },
  {
   "cell_type": "code",
   "execution_count": 16,
   "metadata": {},
   "outputs": [
    {
     "name": "stdout",
     "output_type": "stream",
     "text": [
      "['hello', 'Claude', 'is', 'Alice', 'hi', 'my', 'name', 'Bob']\n",
      "[[1 0 1 1 0 1 1 0]\n",
      " [1 0 1 0 0 1 1 1]\n",
      " [0 1 1 0 1 1 1 0]\n",
      " [0 0 0 1 1 0 0 0]\n",
      " [1 1 0 0 0 0 0 0]\n",
      " [0 1 1 0 0 1 1 1]\n",
      " [0 1 1 1 1 1 1 0]\n",
      " [1 0 0 0 0 0 0 1]]\n"
     ]
    }
   ],
   "source": [
    "s4 = \"hi Alice\"\n",
    "s5 = \"hello Claude\"\n",
    "s6 = \"Bob my name is Claude\"\n",
    "s7 = \"hi Claude my name is Alice\"\n",
    "s8 = \"hello Bob\"\n",
    "\n",
    "corpus = [s1, s2, s3, s4, s5, s6, s7, s8]\n",
    "all_words = list(set([item for x in corpus for item in x.split()]))\n",
    "\n",
    "new_vecs = [[1 if x in s else 0 for x in all_words] for s in corpus]\n",
    "matrix = np.array(new_vecs)\n",
    "print(all_words)\n",
    "print(matrix)\n"
   ]
  },
  {
   "cell_type": "markdown",
   "metadata": {},
   "source": [
    "e) How many rows and columns does this matrix have?"
   ]
  },
  {
   "cell_type": "code",
   "execution_count": 17,
   "metadata": {},
   "outputs": [
    {
     "name": "stdout",
     "output_type": "stream",
     "text": [
      "The matrix has 8 rows and 8 columns\n"
     ]
    }
   ],
   "source": [
    "R, C = np.shape(matrix)\n",
    "print(f\"The matrix has {R} rows and {C} columns\")"
   ]
  },
  {
   "attachments": {},
   "cell_type": "markdown",
   "metadata": {},
   "source": [
    "f) When using the Manhattan distance, which two sentences are the most similar?"
   ]
  },
  {
   "cell_type": "code",
   "execution_count": 42,
   "metadata": {},
   "outputs": [
    {
     "name": "stdout",
     "output_type": "stream",
     "text": [
      "The words with the shortest distance is s2 and s6\n"
     ]
    }
   ],
   "source": [
    "distances = np.ones((R, R)) * np.inf\n",
    "for row in range(R):\n",
    "    for col in range(row + 1, C):\n",
    "        distances[row, col] = manhattan_distance(matrix[row], matrix[col])\n",
    "\n",
    "min_distance = np.min(distances)\n",
    "sentence1, sentance2 = np.nonzero(distances == min_distance)\n",
    "print(f\"The words with the shortest distance is s{sentence1[0]} and s{sentance2[0]}\")"
   ]
  },
  {
   "cell_type": "markdown",
   "metadata": {},
   "source": [
    "#### Part 3 Challenge"
   ]
  },
  {
   "cell_type": "markdown",
   "metadata": {},
   "source": [
    "Given a set of graphs $\\mathcal{G}$, each graph $G \\in \\mathcal{G}$ is defined over the same set of nodes $V$. The graphs are represented by their adjacency matrices, which are 2D arrays where each element indicates whether a pair of nodes is connected by an edge.\n",
    "\n",
    "Your task is to compute the pairwise distances between these graphs based on a specific distance metric. The distance $d(G, G')$ between two graphs $G = (V, E)$ and $G' = (V, E')$ is defined as the sum of the number of edges in $G$ but not in $G'$, and the number of edges in $G'$ but not in $G$. Mathematically, this can be expressed as:\n",
    "\n",
    "$$\n",
    "d(G, G') = |E \\setminus E'| + |E' \\setminus E|.\n",
    "$$\n",
    "\n",
    "##### Requirements:\n",
    "1. **Input**: Should take a list of 2D numpy arrays as input. Each array represents the adjacency matrix of a graph.\n",
    "\n",
    "2. **Output**: Should output a pairwise distance matrix. If there are $n$ graphs in the input list, the output should be an $n \\times n$ matrix where the entry at position $(i, j)$ represents the distance between the $i^{th}$ and $j^{th}$ graph."
   ]
  },
  {
   "cell_type": "code",
   "execution_count": 90,
   "metadata": {},
   "outputs": [],
   "source": [
    "def compute_distances(graphs):\n",
    "    graphs = np.array(graphs)\n",
    "    graphs = np.triu(graphs)\n",
    "    \n",
    "    B, V, _ = np.shape(graphs)\n",
    "    graph_matrix = np.expand_dims(graphs, axis=0)\n",
    "    graph_matrix = np.repeat(graph_matrix, B, axis=0)\n",
    "\n",
    "    graph_matrix_t = np.transpose(graph_matrix, axes=(1, 0, 2, 3))\n",
    "    diff_edges = np.not_equal(graph_matrix, graph_matrix_t)\n",
    "\n",
    "    distances = np.sum(np.sum(diff_edges, axis=3), axis=2)\n",
    "    return distances"
   ]
  },
  {
   "cell_type": "code",
   "execution_count": 96,
   "metadata": {},
   "outputs": [
    {
     "name": "stdout",
     "output_type": "stream",
     "text": [
      "\u001b[1m======================================= test session starts =======================================\u001b[0m\n",
      "platform win32 -- Python 3.11.7, pytest-8.0.0, pluggy-1.4.0\n",
      "rootdir: c:\\Users\\chris\\bu\\spring2024\\Data-Science-Fundamentals\\lecture_04\n",
      "plugins: anyio-3.6.2\n",
      "collected 1 item\n",
      "\n",
      "t_0d467f043d8249b08cd5472dfd354d96.py \u001b[32m.\u001b[0m\u001b[32m                                                      [100%]\u001b[0m\n",
      "\n",
      "\u001b[32m======================================== \u001b[32m\u001b[1m1 passed\u001b[0m\u001b[32m in 0.07s\u001b[0m\u001b[32m ========================================\u001b[0m\n"
     ]
    },
    {
     "data": {
      "text/plain": [
       "<ExitCode.OK: 0>"
      ]
     },
     "execution_count": 96,
     "metadata": {},
     "output_type": "execute_result"
    }
   ],
   "source": [
    "import pytest\n",
    "import ipytest\n",
    "\n",
    "def test_compute_distance():\n",
    "    # arrange\n",
    "    graphs = [\n",
    "        np.array([\n",
    "            [0, 1, 0],\n",
    "            [1, 0, 0],\n",
    "            [0, 1, 0]\n",
    "        ]),\n",
    "        np.array([\n",
    "            [0, 1, 1],\n",
    "            [1, 0, 0],\n",
    "            [1, 1, 0]\n",
    "        ]),\n",
    "        np.array([\n",
    "            [1, 0, 0],\n",
    "            [0, 0, 0],\n",
    "            [0, 0, 0]\n",
    "        ]),\n",
    "        np.array([\n",
    "            [1, 1, 1],\n",
    "            [1, 0, 0],\n",
    "            [1, 0, 0]\n",
    "        ])\n",
    "    ]\n",
    "    expected = np.array([\n",
    "        [0, 1, 2, 2],\n",
    "        [1, 0, 3, 1],\n",
    "        [2, 3, 0, 2],\n",
    "        [2, 1, 2, 0],\n",
    "    ])\n",
    "\n",
    "    # Act\n",
    "    actual = compute_distances(graphs)\n",
    "\n",
    "    # Assert\n",
    "    assert np.all(actual == expected)\n",
    "\n",
    "ipytest.run()\n",
    "\n"
   ]
  },
  {
   "cell_type": "code",
   "execution_count": null,
   "metadata": {},
   "outputs": [],
   "source": []
  }
 ],
 "metadata": {
  "kernelspec": {
   "display_name": "Python 3",
   "language": "python",
   "name": "python3"
  },
  "language_info": {
   "codemirror_mode": {
    "name": "ipython",
    "version": 3
   },
   "file_extension": ".py",
   "mimetype": "text/x-python",
   "name": "python",
   "nbconvert_exporter": "python",
   "pygments_lexer": "ipython3",
   "version": "3.11.7"
  },
  "orig_nbformat": 4,
  "vscode": {
   "interpreter": {
    "hash": "76ca05dc3ea24b2e3b98cdb7774adfbb40773424bf5109b477fd793f623715af"
   }
  }
 },
 "nbformat": 4,
 "nbformat_minor": 2
}
