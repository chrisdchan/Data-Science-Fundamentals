{
 "cells": [
  {
   "attachments": {},
   "cell_type": "markdown",
   "metadata": {},
   "source": [
    "# Worksheet 08\n",
    "\n",
    "Name:  Chris Chan   \n",
    "UID: U31827126\n",
    "\n",
    "### Topics\n",
    "\n",
    "- Soft Clustering\n",
    "- Clustering Aggregation\n",
    "\n",
    "### Probability Review\n",
    "\n",
    "Read through [the following](https://medium.com/@gallettilance/overview-of-probability-3272b72c82c8)\n",
    "\n",
    "### Soft Clustering\n",
    "\n",
    "We generate 10 data points that come from a normal distribution with mean 5 and variance 1."
   ]
  },
  {
   "cell_type": "code",
   "execution_count": 1,
   "metadata": {},
   "outputs": [
    {
     "name": "stdout",
     "output_type": "stream",
     "text": [
      "[5.028980705979166, 4.965722317795994, 6.0702841852184575, 4.978673442983568, 4.404593218633171, 6.442191107233376, 4.609036786727812, 4.388552837738249, 5.867883597213469, 4.0451097218901495]\n"
     ]
    }
   ],
   "source": [
    "import random\n",
    "import numpy as np\n",
    "from sklearn.cluster import KMeans\n",
    "\n",
    "mean = 5\n",
    "stdev = 1\n",
    "\n",
    "s1 = np.random.normal(mean, stdev, 10).tolist()\n",
    "print(s1)"
   ]
  },
  {
   "cell_type": "markdown",
   "metadata": {},
   "source": [
    "a) Generate 10 more data points, this time coming from a normal distribution with mean 8 and variance 1."
   ]
  },
  {
   "cell_type": "code",
   "execution_count": 2,
   "metadata": {},
   "outputs": [
    {
     "name": "stdout",
     "output_type": "stream",
     "text": [
      "[7.792442134722227, 7.80544864800378, 8.329755893120607, 7.959286571598049, 7.808110950875414, 7.8494887714031565, 9.72591102188842, 7.459315349632037, 7.521898389871084, 8.032875319631511]\n"
     ]
    }
   ],
   "source": [
    "s2 = np.random.normal(8, 1, 10).tolist()\n",
    "print(s2)"
   ]
  },
  {
   "attachments": {},
   "cell_type": "markdown",
   "metadata": {},
   "source": [
    "b) Flip a fair coin 10 times. If the coin lands on H, then pick the last data point of `s1` and remove it from `s1`, if T then pick the last data point from `s2` and remove it from `s2`. Add these 10 points to a list called `data`."
   ]
  },
  {
   "cell_type": "code",
   "execution_count": 3,
   "metadata": {},
   "outputs": [
    {
     "name": "stdout",
     "output_type": "stream",
     "text": [
      "[8.032875319631511, 7.521898389871084, 4.0451097218901495, 5.867883597213469, 4.388552837738249, 4.609036786727812, 6.442191107233376, 7.459315349632037, 9.72591102188842, 7.8494887714031565]\n"
     ]
    }
   ],
   "source": [
    "data = []\n",
    "true_assignment = []\n",
    "for i in range(10):\n",
    "    # flip coin\n",
    "    coin_output = random.choice([0, 1])\n",
    "    true_assignment.append(coin_output)\n",
    "    if coin_output == 0:\n",
    "        p1 = s1.pop()\n",
    "        data.append(p1)\n",
    "    else:\n",
    "        p2 = s2.pop()\n",
    "        data.append(p2)\n",
    "print(data)"
   ]
  },
  {
   "cell_type": "markdown",
   "metadata": {},
   "source": [
    "c) This `data` is a Gaussian Mixture Distribution with 2 mixture components. Over the next few questions we will walk through the GMM algorithm to see if we can uncover the parameters we used to generate this data. First, please list all these parameters of the GMM that created `data` and the values we know they have."
   ]
  },
  {
   "cell_type": "markdown",
   "metadata": {},
   "source": [
    "mean1 = 5 \\\n",
    "mean2 = 8 \\\n",
    "stdev1 = 1 \\\n",
    "stdev2 = 1 \n"
   ]
  },
  {
   "cell_type": "markdown",
   "metadata": {},
   "source": [
    "d) Let's assume there are two mixture components (note: we could plot the data and make the observation that there are two clusters). The EM algorithm asks us to start with a random `mean_j`, `variance_j`, `P(S_j)` for each component j. One method we could use to find sensible values for these is to apply K means with k=2 here.\n",
    "\n",
    "1. the centroids would be the estimates of the `mean_j`\n",
    "2. the intra-cluster variance could be the estimate of `variance_j`\n",
    "3. the proportion of points in each cluster could be the estimate of `P(S_j)`\n",
    "\n",
    "Go through this process and list the parameter estimates it gives. Are they close or far from the true values?"
   ]
  },
  {
   "cell_type": "code",
   "execution_count": 4,
   "metadata": {},
   "outputs": [
    {
     "name": "stderr",
     "output_type": "stream",
     "text": [
      "C:\\Users\\chris\\AppData\\Roaming\\Python\\Python311\\site-packages\\sklearn\\cluster\\_kmeans.py:1416: FutureWarning: The default value of `n_init` will change from 10 to 'auto' in 1.4. Set the value of `n_init` explicitly to suppress the warning\n",
      "  super()._check_params_vs_input(X, default_n_init=10)\n"
     ]
    },
    {
     "name": "stdout",
     "output_type": "stream",
     "text": [
      "[4.0451097218901495, 5.867883597213469, 4.388552837738249, 4.609036786727812]\n",
      "[8.032875319631511, 7.521898389871084, 6.442191107233376, 7.459315349632037, 9.72591102188842, 7.8494887714031565]\n",
      "P(S_1) = 0.4,  P(S_2) = 0.6\n",
      "mean_1 = 4.72764573589242,  mean_2 = 7.838613326609932\n",
      "var_1 = 0.47376246680015854,  var_2 = 0.9656531515162036\n"
     ]
    }
   ],
   "source": [
    "kmeans = KMeans(2, init='k-means++').fit(X=np.array(data).reshape(-1, 1))\n",
    "\n",
    "s1 = [x[0] for x in filter(lambda x: x[1] == 0, zip(data, kmeans.labels_))]\n",
    "print(s1)\n",
    "s2 = [x[0] for x in filter(lambda x: x[1] == 1, zip(data, kmeans.labels_))]\n",
    "print(s2)\n",
    "\n",
    "prob_s = [ len(s1) / (len(s1) + len(s2)) , len(s2) / (len(s1) + len(s2)) ]\n",
    "mean = [ sum(s1)/len(s1) , sum(s2)/len(s2) ]\n",
    "var = [ sum(map(lambda x : (x - mean[0])**2, s1)) / len(s1) , sum(map(lambda x: (x - mean[1])**2, s2)) / len(s2) ]\n",
    "\n",
    "print(\"P(S_1) = \" + str(prob_s[0]) + \",  P(S_2) = \" + str(prob_s[1]))\n",
    "print(\"mean_1 = \" + str(mean[0]) + \",  mean_2 = \" + str(mean[1]))\n",
    "print(\"var_1 = \" + str(var[0]) + \",  var_2 = \" + str(var[1]))"
   ]
  },
  {
   "cell_type": "markdown",
   "metadata": {},
   "source": []
  },
  {
   "cell_type": "markdown",
   "metadata": {},
   "source": [
    "e) For each data point, compute `P(S_j | X_i)`. Comment on which cluster you think each point belongs to based on the estimated probabilities. How does that compare to the truth?"
   ]
  },
  {
   "cell_type": "code",
   "execution_count": 5,
   "metadata": {},
   "outputs": [
    {
     "name": "stdout",
     "output_type": "stream",
     "text": [
      "8.032875319631511\n",
      "Probability of coming from S_1 = 3.7402388906047415e-11\n",
      "Probability of coming from S_2 = 0.9999999999625976\n",
      "\n",
      "7.521898389871084\n",
      "Probability of coming from S_1 = 4.006337394974497e-08\n",
      "Probability of coming from S_2 = 0.999999959936626\n",
      "\n",
      "4.0451097218901495\n",
      "Probability of coming from S_1 = 0.9990753397177139\n",
      "Probability of coming from S_2 = 0.0009246602822861045\n",
      "\n",
      "5.867883597213469\n",
      "Probability of coming from S_1 = 0.3758605584246127\n",
      "Probability of coming from S_2 = 0.6241394415753873\n",
      "\n",
      "4.388552837738249\n",
      "Probability of coming from S_1 = 0.9983947119641284\n",
      "Probability of coming from S_2 = 0.001605288035871646\n",
      "\n",
      "4.609036786727812\n",
      "Probability of coming from S_1 = 0.9971793410978903\n",
      "Probability of coming from S_2 = 0.002820658902109641\n",
      "\n",
      "6.442191107233376\n",
      "Probability of coming from S_1 = 0.005506250370093537\n",
      "Probability of coming from S_2 = 0.9944937496299066\n",
      "\n",
      "7.459315349632037\n",
      "Probability of coming from S_1 = 8.860672628293933e-08\n",
      "Probability of coming from S_2 = 0.9999999113932737\n",
      "\n",
      "9.72591102188842\n",
      "Probability of coming from S_1 = 6.207321637403147e-24\n",
      "Probability of coming from S_2 = 1.0\n",
      "\n",
      "7.8494887714031565\n",
      "Probability of coming from S_1 = 5.063195302285111e-10\n",
      "Probability of coming from S_2 = 0.9999999994936805\n",
      "\n"
     ]
    }
   ],
   "source": [
    "from scipy.stats import norm\n",
    "\n",
    "compute_posterior = lambda x, mu, vars: norm.pdf(x, mean[0], var[0]) \n",
    "\n",
    "def compute_marg(x, means, vars, prob_s):\n",
    "    marg = [norm.pdf(x, mu, var) * p_s for mu, var, p_s in zip(means, vars, prob_s)]\n",
    "    return sum(marg)\n",
    "\n",
    "prob_x = [compute_marg(x, mean, var, prob_s) for x in data] # P(X_i)\n",
    "prob_s0_x = [norm.pdf(x, mean[0], var[0]) * prob_s[0] / p_x for x, p_x in zip(data, prob_x)] # P(S_0 | X_i)\n",
    "prob_s1_x = [norm.pdf(x, mean[1], var[1]) * prob_s[1] / p_x for x, p_x in zip(data, prob_x)] # P(S_1 | X_i)\n",
    "\n",
    "k = 2\n",
    "\n",
    "# for p in data:\n",
    "#     print(\"point = \", p)\n",
    "#     pdf_i = []\n",
    "\n",
    "#     for j in range(k):\n",
    "#         # P(X_i | S_j)\n",
    "#         pdf_i.append(norm.pdf(p, mean[j], var[j]))\n",
    "#         print(\"probability of observing that point if it came from cluster \" + str(j) + \" = \", pdf_i[j])\n",
    "#         # P(S_j) already computed\n",
    "#         prob_s[j]\n",
    "\n",
    "#     # P(X_i) = P(S_0)P(X_i | S_0) + P(S_1)P(X_i | S_1)\n",
    "#     prob_x = prob_s[0] * pdf_i[0] + prob_s[1] * pdf_i[1]\n",
    "\n",
    "#     # P(S_j | X_i) = P(X_i | S_j)P(S_j) / P(X_i)\n",
    "    # prob_s0_x.append( ... )\n",
    "    # prob_s1_x.append( ... )\n",
    "\n",
    "probs = zip(data, prob_s0_x, prob_s1_x)\n",
    "for p in probs:\n",
    "    print(p[0])\n",
    "    print(\"Probability of coming from S_1 = \" + str(p[1]))\n",
    "    print(\"Probability of coming from S_2 = \" + str(p[2]))\n",
    "    print()\n"
   ]
  },
  {
   "cell_type": "markdown",
   "metadata": {},
   "source": [
    "f) Having computed `P(S_j | X_i)`, update the estimates of `mean_j`, `var_j`, and `P(S_j)`. How different are these values from the original ones you got from K means? briefly comment."
   ]
  },
  {
   "cell_type": "code",
   "execution_count": 6,
   "metadata": {},
   "outputs": [
    {
     "name": "stdout",
     "output_type": "stream",
     "text": [
      "P(S_1) = 0.4,  P(S_2) = 0.6\n",
      "mean_1 = 4.520088582583565,  mean_2 = 7.651342841829325\n",
      "var_1 = 0.9536735330219897,  var_2 = 8.036728674914986\n"
     ]
    }
   ],
   "source": [
    "prob_c = [sum(prob_s0_x)/ len(prob_s0_x), sum(prob_s1_x)/len(prob_s1_x)]\n",
    "mean = [sum([x[0] * x[1] for x in zip(prob_s0_x, data)]) / sum(prob_s0_x), sum([prob * x for prob, x in zip(prob_s1_x, data)]) / sum(prob_s1_x)]\n",
    "var = [sum([prob * (x - mean[0]) ** 2 for prob, x in zip(prob_s0_x, data)]) , sum([prob * (x - mean[1]) ** 2 for prob, x in zip(prob_s1_x, data)])]\n",
    "\n",
    "print(\"P(S_1) = \" + str(prob_s[0]) + \",  P(S_2) = \" + str(prob_s[1]))\n",
    "print(\"mean_1 = \" + str(mean[0]) + \",  mean_2 = \" + str(mean[1]))\n",
    "print(\"var_1 = \" + str(var[0]) + \",  var_2 = \" + str(var[1]))"
   ]
  },
  {
   "cell_type": "markdown",
   "metadata": {},
   "source": []
  },
  {
   "cell_type": "markdown",
   "metadata": {},
   "source": [
    "g) Update `P(S_j | X_i)`. Comment on any differences or lack thereof you observe."
   ]
  },
  {
   "cell_type": "code",
   "execution_count": 7,
   "metadata": {},
   "outputs": [],
   "source": [
    "prob_x = [compute_marg(x, mean, var, prob_c) for x in data] # P(X_i)\n",
    "prob_s0_x = [norm.pdf(x, mean[0], var[0]) * prob_c[0] / p_x for x, p_x in zip(data, prob_x)] # P(S_0 | X_i)\n",
    "prob_s1_x = [norm.pdf(x, mean[1], var[1]) * prob_c[1] / p_x for x, p_x in zip(data, prob_x)] # P(S_1 | X_i)"
   ]
  },
  {
   "cell_type": "markdown",
   "metadata": {},
   "source": []
  },
  {
   "cell_type": "markdown",
   "metadata": {},
   "source": [
    "h) Use `P(S_j | X_i)` to create a hard assignment - label each point as belonging to a specific cluster (0 or 1)"
   ]
  },
  {
   "cell_type": "code",
   "execution_count": 10,
   "metadata": {},
   "outputs": [
    {
     "name": "stdout",
     "output_type": "stream",
     "text": [
      "[1, 1, 0, 0, 0, 0, 1, 1, 1, 1]\n",
      "[1, 1, 0, 0, 0, 0, 0, 1, 1, 1]\n"
     ]
    }
   ],
   "source": [
    "assignments = [int(p_s1_x > p_s0_x) for p_s0_x, p_s1_x in zip(prob_s0_x, prob_s1_x)]\n",
    "print(assignments)\n",
    "print(true_assignment)"
   ]
  }
 ],
 "metadata": {
  "kernelspec": {
   "display_name": "Python 3",
   "language": "python",
   "name": "python3"
  },
  "language_info": {
   "codemirror_mode": {
    "name": "ipython",
    "version": 3
   },
   "file_extension": ".py",
   "mimetype": "text/x-python",
   "name": "python",
   "nbconvert_exporter": "python",
   "pygments_lexer": "ipython3",
   "version": "3.11.7"
  },
  "orig_nbformat": 4,
  "vscode": {
   "interpreter": {
    "hash": "e7370f93d1d0cde622a1f8e1c04877d8463912d04d973331ad4851f04de6915a"
   }
  }
 },
 "nbformat": 4,
 "nbformat_minor": 2
}
